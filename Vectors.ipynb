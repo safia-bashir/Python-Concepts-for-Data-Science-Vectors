{
 "cells": [
  {
   "cell_type": "markdown",
   "metadata": {},
   "source": [
    "# Vectors \n",
    "\n",
    "\n",
    " In this tutorial we will learn about various vector creation methods in Python . \n",
    " \n",
    " Python vectors are one-dimensional arrays that are the most common NumPy data structure.\n",
    " \n",
    " 🛑 Do not confuse NumPy vectors with mathematical vectors.\n",
    " \n",
    " Let’s see how they’re created:\n",
    " \n",
    "# Creation #\n",
    "1-D arrays can be created in many ways, and we can create them based on our needs. Here are some ways to create 1-D arrays:\n",
    "\n",
    "## Method 1 \n",
    "\n",
    "By entering the individual elements of an array, we can create an array. Here is an example:"
   ]
  },
  {
   "cell_type": "code",
   "execution_count": null,
   "metadata": {},
   "outputs": [],
   "source": [
    "import numpy as np\n",
    "\n",
    "x = np.array([1, 3, 5, 7, 9])\n",
    "print(x)"
   ]
  },
  {
   "cell_type": "markdown",
   "metadata": {},
   "source": [
    "By using the np.array() function with its input argument being a Python list, we are actually converting a Python list into a vector in the  above code "
   ]
  },
  {
   "cell_type": "markdown",
   "metadata": {},
   "source": [
    "## Method 2\n",
    "\n",
    "The np.ones(size) function creates an array of the specified size filled with 1.\n",
    "Similarly, np.zeros(size) creates an array of the value 0."
   ]
  },
  {
   "cell_type": "code",
   "execution_count": null,
   "metadata": {},
   "outputs": [],
   "source": [
    "\n",
    "v1 = np.ones(5)\n",
    "v0 = np.zeros(5)\n",
    "print(v1)\n",
    "print(v0)"
   ]
  },
  {
   "cell_type": "markdown",
   "metadata": {},
   "source": [
    "Note: Data type of values inside the vectors generated from ones() and zeros() functions are floating points.\n"
   ]
  },
  {
   "cell_type": "markdown",
   "metadata": {},
   "source": [
    "## Method 3 \n",
    "\n",
    "The arange() function can be used to initialize an array. It can take up to three arguments.\n",
    "\n",
    "np.arange(start, end, step)\n",
    "\n",
    "The first argument indicates the start point, the second argument indicates the end point, and the third argument indicates the step size."
   ]
  },
  {
   "cell_type": "code",
   "execution_count": null,
   "metadata": {},
   "outputs": [],
   "source": [
    "print(np.arange(1, 7)) # Takes default steps of 1 and doesn't include 7\n",
    "print(np.arange(5)) # Starts at 0 by defualt and ends at 4, giving 5 numbers\n",
    "print(np.arange(1, 10, 3))   # Starts at 1 and ends at less than 10, with a step size of 3\n",
    "                                "
   ]
  },
  {
   "cell_type": "markdown",
   "metadata": {},
   "source": [
    " ## Method 4 \n",
    " \n",
    " By using the linspace() function, we can also define an array of equally spaced elements containing both endpoints.\n",
    " \n",
    " Run the code below to see the implementation of linspace():"
   ]
  },
  {
   "cell_type": "code",
   "execution_count": null,
   "metadata": {},
   "outputs": [],
   "source": [
    "print(np.linspace(1, 12, 12)) \n",
    "print(np.linspace(1, 12, 5))\n",
    "print(np.linspace(1, 12, 3))"
   ]
  },
  {
   "cell_type": "code",
   "execution_count": null,
   "metadata": {},
   "outputs": [],
   "source": []
  }
 ],
 "metadata": {
  "kernelspec": {
   "display_name": "Python 3",
   "language": "python",
   "name": "python3"
  },
  "language_info": {
   "codemirror_mode": {
    "name": "ipython",
    "version": 3
   },
   "file_extension": ".py",
   "mimetype": "text/x-python",
   "name": "python",
   "nbconvert_exporter": "python",
   "pygments_lexer": "ipython3",
   "version": "3.8.5"
  }
 },
 "nbformat": 4,
 "nbformat_minor": 4
}
